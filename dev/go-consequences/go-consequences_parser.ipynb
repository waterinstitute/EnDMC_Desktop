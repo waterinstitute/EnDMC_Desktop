{
 "cells": [
  {
   "cell_type": "code",
   "execution_count": 15,
   "metadata": {},
   "outputs": [
    {
     "data": {
      "text/plain": [
       "['package main',\n",
       " '',\n",
       " 'import (',\n",
       " '\\t\"fmt\"',\n",
       " '',\n",
       " '\\t\"github.com/USACE/go-consequences/compute\"',\n",
       " '\\t\"github.com/USACE/go-consequences/hazardproviders\"',\n",
       " '\\t\"github.com/USACE/go-consequences/resultswriters\"',\n",
       " '\\t\"github.com/USACE/go-consequences/structureprovider\"',\n",
       " ')',\n",
       " '',\n",
       " 'func main() {',\n",
       " '\\tfmt.Println(\"Start\")',\n",
       " '',\n",
       " '\\t//define flood hazard, provide the file path to your desired flood',\n",
       " '\\thazard, e := hazardproviders.Init(\"./data/flood_here.tif\")',\n",
       " '\\tif e != nil {',\n",
       " '\\t\\tpanic(e)',\n",
       " '\\t}',\n",
       " '\\tdefer hazard.Close()',\n",
       " '',\n",
       " '\\t//define structure inventory, provide file path to structure inventory',\n",
       " '\\tinventory, b := structureprovider.InitSHP(\"./data/inventory_here.shp\")',\n",
       " '\\tif b != nil {',\n",
       " '\\t\\tpanic(b)',\n",
       " '\\t}',\n",
       " '',\n",
       " '\\t//define result file, provide file path where you want results to be saved',\n",
       " '\\t// results, c := resultswriters.InitGpkResultsWriter(\"./output/result_file.gpkg\", \"event_results\")',\n",
       " '\\tresults, c := resultswriters.InitGpkResultsWriter_Projected(\"./output/result_file.gpkg\", \"event_results\", 9822)',\n",
       " '\\tif c != nil {',\n",
       " '\\t\\tpanic(c)',\n",
       " '\\t}',\n",
       " '\\tdefer results.Close()',\n",
       " '',\n",
       " '\\t//run the compute',\n",
       " '\\tcompute.StreamAbstract(hazard, inventory, results)',\n",
       " '\\tfmt.Println(\"End\")',\n",
       " '}']"
      ]
     },
     "execution_count": 15,
     "metadata": {},
     "output_type": "execute_result"
    }
   ],
   "source": [
    "import os\n",
    "\n",
    "prj = \"./main.go\"\n",
    "# prj_dir, prj_file_tail = os.path.split(prj)\n",
    "# prj_name = prj_file_tail.split(\".\")[0]\n",
    "with open(prj, \"r\") as f:\n",
    "     lines = f.readlines()\n",
    "lines = [s.strip('\\n') for s in lines]\n",
    "lines"
   ]
  },
  {
   "cell_type": "code",
   "execution_count": 16,
   "metadata": {},
   "outputs": [],
   "source": [
    "# Get Hazard Layer (WSE geotif from HEC-RAS)\n",
    "# splitting by double quotes because GoLang always uses double quotes for defining strings.\n",
    "hazard_layer = [s for s in lines if \"hazardproviders.Init\" in s][0].split('\"')[1]"
   ]
  },
  {
   "cell_type": "code",
   "execution_count": 17,
   "metadata": {},
   "outputs": [],
   "source": [
    "# Get Structure Inventory Layer\n",
    "structure_inventory_layer = [s for s in lines if \"structureprovider.Init\" in s][0].split('\"')[1]"
   ]
  },
  {
   "cell_type": "code",
   "execution_count": 19,
   "metadata": {},
   "outputs": [],
   "source": [
    "# Get Projected Results Layer\n",
    "try:\n",
    "    results_layer = [s for s in lines if \"resultswriters.InitGpkResultsWriter_Projected\" in s][0].split('\"')[1]\n",
    "    # Getting the projection from the last parameter of the InitGpkResultsWriter_Projected function call.\n",
    "    results_projection = [s for s in lines if \"resultswriters.InitGpkResultsWriter_Projected\" in s][0].split(',')[-1].split(')')[0]\n",
    "except:\n",
    "    # Get Results Layer that assumes 4326 projection\n",
    "    results_layer = [s for s in lines if \"resultswriters.InitGpkResultsWriter\" in s][0].split('\"')[1]\n",
    "    results_projection = \"4326\""
   ]
  },
  {
   "cell_type": "code",
   "execution_count": 24,
   "metadata": {},
   "outputs": [
    {
     "data": {
      "text/html": [
       "<div>\n",
       "<style scoped>\n",
       "    .dataframe tbody tr th:only-of-type {\n",
       "        vertical-align: middle;\n",
       "    }\n",
       "\n",
       "    .dataframe tbody tr th {\n",
       "        vertical-align: top;\n",
       "    }\n",
       "\n",
       "    .dataframe thead th {\n",
       "        text-align: right;\n",
       "    }\n",
       "</style>\n",
       "<table border=\"1\" class=\"dataframe\">\n",
       "  <thead>\n",
       "    <tr style=\"text-align: right;\">\n",
       "      <th></th>\n",
       "      <th>Simulation Name</th>\n",
       "      <th>Description</th>\n",
       "      <th>Structure Inventory File</th>\n",
       "      <th>WSE File</th>\n",
       "      <th>Model Result Output File</th>\n",
       "    </tr>\n",
       "  </thead>\n",
       "  <tbody>\n",
       "    <tr>\n",
       "      <th>0</th>\n",
       "      <td>Katrina (2005)</td>\n",
       "      <td>Amite LWI HEC-RAS Model results for Hurricane ...</td>\n",
       "      <td>C:/py/hec_meta_extract/dev/go-consequences/dat...</td>\n",
       "      <td>C:/py/hec_meta_extract/dev/go-consequences/dat...</td>\n",
       "      <td>C:/py/hec_meta_extract/output/Amite_Katrina200...</td>\n",
       "    </tr>\n",
       "    <tr>\n",
       "      <th>1</th>\n",
       "      <td>Issac (2012)</td>\n",
       "      <td>Amite LWI HEC-RAS Model results for Hurricane ...</td>\n",
       "      <td>C:/py/hec_meta_extract/dev/go-consequences/dat...</td>\n",
       "      <td>C:/py/hec_meta_extract/dev/go-consequences/dat...</td>\n",
       "      <td>C:/py/hec_meta_extract/output/Amite_Isaac2012_...</td>\n",
       "    </tr>\n",
       "    <tr>\n",
       "      <th>2</th>\n",
       "      <td>Gustav (2008)</td>\n",
       "      <td>Amite LWI HEC-RAS Model results for Hurricane ...</td>\n",
       "      <td>C:/py/hec_meta_extract/dev/go-consequences/dat...</td>\n",
       "      <td>C:/py/hec_meta_extract/dev/go-consequences/dat...</td>\n",
       "      <td>C:/py/hec_meta_extract/output/Amite_Gustav2008...</td>\n",
       "    </tr>\n",
       "  </tbody>\n",
       "</table>\n",
       "</div>"
      ],
      "text/plain": [
       "  Simulation Name                                        Description   \n",
       "0  Katrina (2005)  Amite LWI HEC-RAS Model results for Hurricane ...  \\\n",
       "1    Issac (2012)  Amite LWI HEC-RAS Model results for Hurricane ...   \n",
       "2   Gustav (2008)  Amite LWI HEC-RAS Model results for Hurricane ...   \n",
       "\n",
       "                            Structure Inventory File   \n",
       "0  C:/py/hec_meta_extract/dev/go-consequences/dat...  \\\n",
       "1  C:/py/hec_meta_extract/dev/go-consequences/dat...   \n",
       "2  C:/py/hec_meta_extract/dev/go-consequences/dat...   \n",
       "\n",
       "                                            WSE File   \n",
       "0  C:/py/hec_meta_extract/dev/go-consequences/dat...  \\\n",
       "1  C:/py/hec_meta_extract/dev/go-consequences/dat...   \n",
       "2  C:/py/hec_meta_extract/dev/go-consequences/dat...   \n",
       "\n",
       "                            Model Result Output File  \n",
       "0  C:/py/hec_meta_extract/output/Amite_Katrina200...  \n",
       "1  C:/py/hec_meta_extract/output/Amite_Isaac2012_...  \n",
       "2  C:/py/hec_meta_extract/output/Amite_Gustav2008...  "
      ]
     },
     "execution_count": 24,
     "metadata": {},
     "output_type": "execute_result"
    }
   ],
   "source": [
    "\n",
    "import pandas as pd\n",
    "run_table_df = pd.read_csv(r\"C:\\py\\hec_meta_extract\\example\\input\\go-consequences\\run_table.csv\")\n",
    "run_table_df"
   ]
  },
  {
   "cell_type": "code",
   "execution_count": 25,
   "metadata": {},
   "outputs": [
    {
     "name": "stdout",
     "output_type": "stream",
     "text": [
      "C:/py/hec_meta_extract/dev/go-consequences/data/NSI.shp\n",
      "C:/py/hec_meta_extract/dev/go-consequences/data/NSI.shp\n",
      "C:/py/hec_meta_extract/dev/go-consequences/data/NSI.shp\n"
     ]
    }
   ],
   "source": [
    "for layer in run_table_df['Structure Inventory File'].values:\n",
    "    print(layer)"
   ]
  },
  {
   "cell_type": "code",
   "execution_count": 27,
   "metadata": {},
   "outputs": [
    {
     "data": {
      "text/plain": [
       "Index(['Simulation Name', 'Description', 'Structure Inventory File',\n",
       "       'WSE File', 'Model Result Output File'],\n",
       "      dtype='object')"
      ]
     },
     "execution_count": 27,
     "metadata": {},
     "output_type": "execute_result"
    }
   ],
   "source": [
    "# C:\\py\\hec_meta_extract\\dev\\go-consequences\\data\\NSI.shp\n",
    "run_table_df.columns"
   ]
  },
  {
   "cell_type": "code",
   "execution_count": 38,
   "metadata": {},
   "outputs": [
    {
     "data": {
      "text/plain": [
       "['C:/py/hec_meta_extract/dev/go-consequences/data/NSI.shp',\n",
       " 'C:/py/hec_meta_extract/dev/go-consequences/data/NSI.shp',\n",
       " 'C:/py/hec_meta_extract/dev/go-consequences/data/NSI.shp']"
      ]
     },
     "execution_count": 38,
     "metadata": {},
     "output_type": "execute_result"
    }
   ],
   "source": [
    "import os\n",
    "run_table_df['Structure Inventory File Exists'] = run_table_df['Structure Inventory File'].apply(lambda x: os.path.exists(x))\n",
    "# run_table_df['Structure Inventory File Exists'].values\n",
    "run_table_df[run_table_df['Structure Inventory File Exists'] == True]['Structure Inventory File'].tolist()"
   ]
  }
 ],
 "metadata": {
  "kernelspec": {
   "display_name": "meta39",
   "language": "python",
   "name": "python3"
  },
  "language_info": {
   "codemirror_mode": {
    "name": "ipython",
    "version": 3
   },
   "file_extension": ".py",
   "mimetype": "text/x-python",
   "name": "python",
   "nbconvert_exporter": "python",
   "pygments_lexer": "ipython3",
   "version": "3.9.13"
  },
  "orig_nbformat": 4
 },
 "nbformat": 4,
 "nbformat_minor": 2
}
