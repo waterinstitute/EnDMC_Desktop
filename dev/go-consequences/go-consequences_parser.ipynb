{
 "cells": [
  {
   "cell_type": "code",
   "execution_count": 15,
   "metadata": {},
   "outputs": [
    {
     "data": {
      "text/plain": [
       "['package main',\n",
       " '',\n",
       " 'import (',\n",
       " '\\t\"fmt\"',\n",
       " '',\n",
       " '\\t\"github.com/USACE/go-consequences/compute\"',\n",
       " '\\t\"github.com/USACE/go-consequences/hazardproviders\"',\n",
       " '\\t\"github.com/USACE/go-consequences/resultswriters\"',\n",
       " '\\t\"github.com/USACE/go-consequences/structureprovider\"',\n",
       " ')',\n",
       " '',\n",
       " 'func main() {',\n",
       " '\\tfmt.Println(\"Start\")',\n",
       " '',\n",
       " '\\t//define flood hazard, provide the file path to your desired flood',\n",
       " '\\thazard, e := hazardproviders.Init(\"./data/flood_here.tif\")',\n",
       " '\\tif e != nil {',\n",
       " '\\t\\tpanic(e)',\n",
       " '\\t}',\n",
       " '\\tdefer hazard.Close()',\n",
       " '',\n",
       " '\\t//define structure inventory, provide file path to structure inventory',\n",
       " '\\tinventory, b := structureprovider.InitSHP(\"./data/inventory_here.shp\")',\n",
       " '\\tif b != nil {',\n",
       " '\\t\\tpanic(b)',\n",
       " '\\t}',\n",
       " '',\n",
       " '\\t//define result file, provide file path where you want results to be saved',\n",
       " '\\t// results, c := resultswriters.InitGpkResultsWriter(\"./output/result_file.gpkg\", \"event_results\")',\n",
       " '\\tresults, c := resultswriters.InitGpkResultsWriter_Projected(\"./output/result_file.gpkg\", \"event_results\", 9822)',\n",
       " '\\tif c != nil {',\n",
       " '\\t\\tpanic(c)',\n",
       " '\\t}',\n",
       " '\\tdefer results.Close()',\n",
       " '',\n",
       " '\\t//run the compute',\n",
       " '\\tcompute.StreamAbstract(hazard, inventory, results)',\n",
       " '\\tfmt.Println(\"End\")',\n",
       " '}']"
      ]
     },
     "execution_count": 15,
     "metadata": {},
     "output_type": "execute_result"
    }
   ],
   "source": [
    "import os\n",
    "\n",
    "prj = \"./main.go\"\n",
    "# prj_dir, prj_file_tail = os.path.split(prj)\n",
    "# prj_name = prj_file_tail.split(\".\")[0]\n",
    "with open(prj, \"r\") as f:\n",
    "     lines = f.readlines()\n",
    "lines = [s.strip('\\n') for s in lines]\n",
    "lines"
   ]
  },
  {
   "cell_type": "code",
   "execution_count": 16,
   "metadata": {},
   "outputs": [],
   "source": [
    "# Get Hazard Layer (WSE geotif from HEC-RAS)\n",
    "# splitting by double quotes because GoLang always uses double quotes for defining strings.\n",
    "hazard_layer = [s for s in lines if \"hazardproviders.Init\" in s][0].split('\"')[1]"
   ]
  },
  {
   "cell_type": "code",
   "execution_count": 17,
   "metadata": {},
   "outputs": [],
   "source": [
    "# Get Structure Inventory Layer\n",
    "structure_inventory_layer = [s for s in lines if \"structureprovider.Init\" in s][0].split('\"')[1]"
   ]
  },
  {
   "cell_type": "code",
   "execution_count": 19,
   "metadata": {},
   "outputs": [],
   "source": [
    "# Get Projected Results Layer\n",
    "try:\n",
    "    results_layer = [s for s in lines if \"resultswriters.InitGpkResultsWriter_Projected\" in s][0].split('\"')[1]\n",
    "    # Getting the projection from the last parameter of the InitGpkResultsWriter_Projected function call.\n",
    "    results_projection = [s for s in lines if \"resultswriters.InitGpkResultsWriter_Projected\" in s][0].split(',')[-1].split(')')[0]\n",
    "except:\n",
    "    # Get Results Layer that assumes 4326 projection\n",
    "    results_layer = [s for s in lines if \"resultswriters.InitGpkResultsWriter\" in s][0].split('\"')[1]\n",
    "    results_projection = \"4326\""
   ]
  },
  {
   "cell_type": "code",
   "execution_count": null,
   "metadata": {},
   "outputs": [],
   "source": [
    "\n"
   ]
  }
 ],
 "metadata": {
  "kernelspec": {
   "display_name": "meta39",
   "language": "python",
   "name": "python3"
  },
  "language_info": {
   "codemirror_mode": {
    "name": "ipython",
    "version": 3
   },
   "file_extension": ".py",
   "mimetype": "text/x-python",
   "name": "python",
   "nbconvert_exporter": "python",
   "pygments_lexer": "ipython3",
   "version": "3.9.13"
  },
  "orig_nbformat": 4
 },
 "nbformat": 4,
 "nbformat_minor": 2
}
