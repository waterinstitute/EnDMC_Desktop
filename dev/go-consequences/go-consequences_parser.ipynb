{
 "cells": [
  {
   "cell_type": "code",
   "execution_count": 108,
   "metadata": {},
   "outputs": [
    {
     "data": {
      "text/plain": [
       "['package main',\n",
       " '',\n",
       " 'import (',\n",
       " '\\t\"fmt\"',\n",
       " '',\n",
       " '\\t\"github.com/USACE/go-consequences/compute\"',\n",
       " '\\t\"github.com/USACE/go-consequences/hazardproviders\"',\n",
       " '\\t\"github.com/USACE/go-consequences/resultswriters\"',\n",
       " '\\t\"github.com/USACE/go-consequences/structureprovider\"',\n",
       " ')',\n",
       " '',\n",
       " 'func main() {',\n",
       " '\\tfmt.Println(\"Start\")',\n",
       " '',\n",
       " '\\t//define flood hazard, provide the file path to your desired flood',\n",
       " '\\thazard, e := hazardproviders.Init(\"./data/flood_here.tif\")',\n",
       " '\\tif e != nil {',\n",
       " '\\t\\tpanic(e)',\n",
       " '\\t}',\n",
       " '\\tdefer hazard.Close()',\n",
       " '',\n",
       " '\\t//define structure inventory, provide file path to structure inventory',\n",
       " '\\tinventory, b := structureprovider.InitSHP(\"./data/inventory_here.shp\")',\n",
       " '\\tif b != nil {',\n",
       " '\\t\\tpanic(b)',\n",
       " '\\t}',\n",
       " '',\n",
       " '\\t//define result file, provide file path where you want results to be saved',\n",
       " '\\t// results, c := resultswriters.InitGpkResultsWriter(\"./output/result_file.gpkg\", \"event_results\")',\n",
       " '\\tresults, c := resultswriters.InitGpkResultsWriter_Projected(\"./output/result_file.gpkg\", \"event_results\", 9822)',\n",
       " '\\tif c != nil {',\n",
       " '\\t\\tpanic(c)',\n",
       " '\\t}',\n",
       " '\\tdefer results.Close()',\n",
       " '',\n",
       " '\\t//run the compute',\n",
       " '\\tcompute.StreamAbstract(hazard, inventory, results)',\n",
       " '\\tfmt.Println(\"End\")',\n",
       " '}']"
      ]
     },
     "execution_count": 108,
     "metadata": {},
     "output_type": "execute_result"
    }
   ],
   "source": [
    "import os\n",
    "import datetime\n",
    "import geopandas as gpd\n",
    "from shapely.geometry import box\n",
    "import json\n",
    "\n",
    "prj = \"./main.go\"\n",
    "prj_name = \"Amite\"\n",
    "description = \"Amite Go-Consequences Model Based on Dewberry Amite River HEC-RAS Model Results\"\n",
    "data_dir = \"./data\"\n",
    "out_dir = \"./output\"\n",
    "# prj_dir, prj_file_tail = os.path.split(prj)\n",
    "# prj_name = prj_file_tail.split(\".\")[0]\n",
    "with open(prj, \"r\") as f:\n",
    "     lines = f.readlines()\n",
    "lines = [s.strip('\\n') for s in lines]\n",
    "lines"
   ]
  },
  {
   "cell_type": "code",
   "execution_count": 92,
   "metadata": {},
   "outputs": [],
   "source": [
    "# Get Hazard Layer (WSE geotif from HEC-RAS)\n",
    "# splitting by double quotes because GoLang always uses double quotes for defining strings.\n",
    "try:\n",
    "    hazard_layer = [s for s in lines if \"hazardproviders.Init\" in s][0].split('\"')[1]\n",
    "except IndexError:\n",
    "    print (\"No hazard layer found. Please Specify the Layer Manually. Setting Layer to None.\")\n",
    "    hazard_layer = None"
   ]
  },
  {
   "cell_type": "code",
   "execution_count": 93,
   "metadata": {},
   "outputs": [],
   "source": [
    "# Get Structure Inventory Layer\n",
    "try: \n",
    "    structure_inventory_layer = [s for s in lines if \"structureprovider.Init\" in s][0].split('\"')[1]\n",
    "    # Create a bounding box feature from the structure inventory layer\n",
    "    gdf = gpd.read_file(structure_inventory_layer)\n",
    "    crs = gdf.crs\n",
    "    gdf.to_crs(epsg=4326, inplace=True)\n",
    "    bounding_box = box(*gdf.total_bounds)\n",
    "    gpd.GeoSeries([bounding_box]).to_file(\"bounding_box.geojson\", driver='GeoJSON')\n",
    "    spatial_extent = str(gpd.GeoSeries([bounding_box])[0])\n",
    "except IndexError:\n",
    "    print (\"No structure inventory layer found. Please Specify the Layer Manually. Setting Layer and spatial_extent to None.\")\n",
    "    structure_inventory_layer = None\n",
    "    crs = None\n",
    "    spatial_extent = None\n"
   ]
  },
  {
   "cell_type": "code",
   "execution_count": 94,
   "metadata": {},
   "outputs": [],
   "source": [
    "# Get Projected Results Layer\n",
    "try:\n",
    "    results_layer = [s for s in lines if \"resultswriters.InitGpkResultsWriter_Projected\" in s][0].split('\"')[1]\n",
    "    # Getting the projection from the last parameter of the InitGpkResultsWriter_Projected function call.\n",
    "    results_projection = [s for s in lines if \"resultswriters.InitGpkResultsWriter_Projected\" in s][0].split(',')[-1].split(')')[0]\n",
    "except:\n",
    "    # Get Results Layer that assumes 4326 projection\n",
    "    # If resusltswriters line not found, exception will be thrown and the results layer will be set to None.\n",
    "    try:\n",
    "        results_layer = [s for s in lines if \"resultswriters.InitGpkResultsWriter\" in s][0].split('\"')[1]\n",
    "        results_projection = \"4326\"\n",
    "    except IndexError:\n",
    "        print (\"No results layer found. Please Specify the Layer Manually. Setting Layer to None.\")\n",
    "        results_layer = None\n",
    "        results_projection = None"
   ]
  },
  {
   "cell_type": "code",
   "execution_count": 95,
   "metadata": {},
   "outputs": [
    {
     "name": "stdout",
     "output_type": "stream",
     "text": [
      "No gpkg files found in output directory. Please Specify the Layer Manually.           Setting Common Files Output Layer List to None.\n"
     ]
    }
   ],
   "source": [
    "# Get list of tifs from data directory\n",
    "tif_endswith = [\".tif\", \".tiff\", \".geotif\", \".geotiff\"]\n",
    "tif_list = [os.path.join(data_dir, f) for f in os.listdir(data_dir) if f.lower().endswith(tuple(tif_endswith))]\n",
    "tif_list = [i.replace('\\\\', '/') for i in tif_list]\n",
    "if len(tif_list) == 0:\n",
    "    print(\"No tifs found in data directory. Please Specify the Layer Manually. Setting Common Files Hazard Layer List to None.\")\n",
    "    tif_list = None\n",
    "\n",
    "# Get list of shps from data directory\n",
    "shp_endswith = [\".shp\", \".geojson\", \".json\", \".gpkg\"]\n",
    "shp_list = [os.path.join(data_dir, f) for f in os.listdir(data_dir) if f.lower().endswith(tuple(shp_endswith))]\n",
    "shp_list = [i.replace('\\\\', '/') for i in shp_list]\n",
    "if len(shp_list) == 0:\n",
    "    print(\"No shps found in data directory. Please Specify the Layer Manually. \\\n",
    "          Setting Common Files Structure Inventory Layer List to None.\")\n",
    "    shp_list = None\n",
    "\n",
    "# Get list of output files from out_dir.\n",
    "output_endswith = [\".gpkg\"]\n",
    "output_list = [os.path.join(out_dir, f) for f in os.listdir(out_dir) if f.lower().endswith(tuple(output_endswith))]\n",
    "output_list = [i.replace('\\\\', '/') for i in output_list]\n",
    "if len(output_list) == 0:\n",
    "    print(\"No gpkg files found in output directory. Please Specify the Layer Manually. \\\n",
    "          Setting Common Files Output Layer List to None.\")\n",
    "    output_list = None"
   ]
  },
  {
   "cell_type": "code",
   "execution_count": 102,
   "metadata": {},
   "outputs": [
    {
     "data": {
      "text/plain": [
       "dict_keys(['_id', 'spatial_extent', 'common_parameters', 'spatial_valid_extent', 'common_software_version', 'keywords', 'temporal_resolution', 'temporal_extent', 'title', 'authors', 'grid', 'purpose', 'common_files_details', 'spatial_valid_extent_resolved', 'linked_resources', 'spatial_extent_resolved', 'description', 'application_date'])"
      ]
     },
     "execution_count": 102,
     "metadata": {},
     "output_type": "execute_result"
    }
   ],
   "source": [
    "# Output model_application.json\n",
    "model_application_template_fn = \"C:\\py\\hec_meta_extract\\dev\\go-consequences\\go_consequences_model_application_template.json\"\n",
    "with open(model_application_template_fn, \"r\") as f:\n",
    "    model_application_template = json.load(f)\n",
    "\n",
    "model_application_template.keys()"
   ]
  },
  {
   "cell_type": "code",
   "execution_count": 103,
   "metadata": {},
   "outputs": [],
   "source": [
    "dropkeys_list = ['_id', 'keywords', 'common_parameters', 'spatial_valid_extent', 'common_software_version', 'temporal_resolution', \\\n",
    "                 'temporal_extent', 'spatial_valid_extent_resolved', 'linked_resources', 'spatial_extent_resolved', \\\n",
    "                 'authors', 'purpose']\n",
    "key_list = list(model_application_template.keys())\n",
    "for dropkey in dropkeys_list:\n",
    "    model_application_template.pop(dropkey)"
   ]
  },
  {
   "cell_type": "code",
   "execution_count": 104,
   "metadata": {},
   "outputs": [
    {
     "data": {
      "text/plain": [
       "dict_keys(['spatial_extent', 'title', 'grid', 'common_files_details', 'description', 'application_date'])"
      ]
     },
     "execution_count": 104,
     "metadata": {},
     "output_type": "execute_result"
    }
   ],
   "source": [
    "model_application_template.keys()"
   ]
  },
  {
   "cell_type": "code",
   "execution_count": 105,
   "metadata": {},
   "outputs": [],
   "source": [
    "model_application_template['spatial_extent'] = spatial_extent\n",
    "model_application_template['title'] = f'Go-Consequences {prj_name}'\n",
    "model_application_template['description'] = f'{description}'\n",
    "model_application_template['grid']['coordinate_system'] = str(crs)\n",
    "model_application_template['application_date'] = datetime.datetime.now().strftime(\"%Y-%m-%d\")\n",
    "\n"
   ]
  },
  {
   "cell_type": "code",
   "execution_count": 106,
   "metadata": {},
   "outputs": [],
   "source": [
    "model_application_template['common_files_details'] = []\n",
    "model_application_template['common_files_details'].append(\n",
    "    [{\n",
    "        \"description\": \"The project's Main Go-Consequences run script file\",\n",
    "        \"location\": prj,\n",
    "        \"source_dataset\": None,\n",
    "        \"title\": \"Project File\"\n",
    "    },\n",
    "    {\n",
    "        \"description\": \"There may be multiple Water Surface Elevation Rasters in the Go-Consequences data directory.\",\n",
    "        \"location\": tif_list,\n",
    "        \"source_dataset\": \"HEC-RAS\",\n",
    "        \"title\": \"Hazard Layers as Water Surface Elevation Raster Files\"\n",
    "    },\n",
    "    {\n",
    "        \"description\": \"There may be multiple Structure Inventories in the Go-Consequences data directory.\",\n",
    "        \"location\": shp_list,\n",
    "        \"source_dataset\": None,\n",
    "        \"title\": \"Structure Inventory Feature Layers\"\n",
    "    },\n",
    "    {\n",
    "        \"description\": \"There may be multiple Output Feature Layers.\",\n",
    "        \"location\": output_list,\n",
    "        \"source_dataset\": \"Go-Consequences Output\",\n",
    "        \"title\": \"Output Feature Layers\"\n",
    "    }]\n",
    ")"
   ]
  },
  {
   "cell_type": "code",
   "execution_count": 107,
   "metadata": {},
   "outputs": [],
   "source": [
    "# output model application json\n",
    "output_dir = os.path.join(os.getcwd(), \"output\")\n",
    "output_model_json = os.path.join(output_dir,f'{prj_name}_model_application.json')\n",
    "with open(output_model_json, \"w\") as outfile:\n",
    "    json.dump(model_application_template, outfile)"
   ]
  }
 ],
 "metadata": {
  "kernelspec": {
   "display_name": "meta39",
   "language": "python",
   "name": "python3"
  },
  "language_info": {
   "codemirror_mode": {
    "name": "ipython",
    "version": 3
   },
   "file_extension": ".py",
   "mimetype": "text/x-python",
   "name": "python",
   "nbconvert_exporter": "python",
   "pygments_lexer": "ipython3",
   "version": "3.9.13"
  },
  "orig_nbformat": 4
 },
 "nbformat": 4,
 "nbformat_minor": 2
}
